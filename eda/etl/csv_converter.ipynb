{
 "cells": [
  {
   "cell_type": "code",
   "execution_count": 6,
   "metadata": {},
   "outputs": [],
   "source": [
    "import pandas as pd\n",
    "import warnings\n",
    "warnings.filterwarnings(\"ignore\")"
   ]
  },
  {
   "cell_type": "code",
   "execution_count": 7,
   "metadata": {},
   "outputs": [],
   "source": [
    "# Carga el archivo XLSX\n",
    "xl = pd.ExcelFile(\"../../data/raw/Internet.xlsx\")\n",
    "\n",
    "# Obtiene la lista de nombres de hojas (páginas) del archivo\n",
    "hojas = xl.sheet_names\n",
    "\n",
    "# Crea un diccionario para almacenar los DataFrames\n",
    "dataframes = {}\n",
    "\n",
    "# Itera sobre las hojas y crea un DataFrame para cada una\n",
    "for hoja in hojas:\n",
    "    df = xl.parse(hoja)\n",
    "    dataframes[hoja] = df"
   ]
  },
  {
   "cell_type": "markdown",
   "metadata": {},
   "source": [
    "voy a pasar los datos a CSV, a la carpeta INTERIM de data, donde voy a dejar cada archivo que aun falta por procesar"
   ]
  },
  {
   "cell_type": "code",
   "execution_count": 8,
   "metadata": {},
   "outputs": [],
   "source": [
    "for c in dataframes.keys():\n",
    "    #print(c)\n",
    "    df = pd.DataFrame(dataframes[c])\n",
    "    df.to_csv(f\"../../data/converted/{c}.csv\")\n"
   ]
  }
 ],
 "metadata": {
  "kernelspec": {
   "display_name": "env",
   "language": "python",
   "name": "python3"
  },
  "language_info": {
   "codemirror_mode": {
    "name": "ipython",
    "version": 3
   },
   "file_extension": ".py",
   "mimetype": "text/x-python",
   "name": "python",
   "nbconvert_exporter": "python",
   "pygments_lexer": "ipython3",
   "version": "3.10.12"
  }
 },
 "nbformat": 4,
 "nbformat_minor": 2
}
